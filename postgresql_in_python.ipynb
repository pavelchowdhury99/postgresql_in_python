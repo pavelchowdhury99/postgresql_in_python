{
 "cells": [
  {
   "attachments": {},
   "cell_type": "markdown",
   "metadata": {},
   "source": [
    "# PostGreSQL Using Python"
   ]
  },
  {
   "attachments": {},
   "cell_type": "markdown",
   "metadata": {},
   "source": [
    "1. [Installing PostGres In Local](https://www.postgresql.org/download/) \n",
    "2. Connecting Dbeaver\n",
    "3. Installing Python Library for Connecting to PostGres\n",
    "4. Connecting With Python and cursor object\n",
    "6. Reading Data\n",
    "7. Writing Data\n",
    "8. Summary"
   ]
  },
  {
   "cell_type": "code",
   "execution_count": 1,
   "metadata": {},
   "outputs": [],
   "source": [
    "import warnings\n",
    "warnings.filterwarnings('ignore')"
   ]
  },
  {
   "attachments": {},
   "cell_type": "markdown",
   "metadata": {},
   "source": [
    "## 1. Installing and Connecting to PostGreSQL"
   ]
  },
  {
   "cell_type": "code",
   "execution_count": 2,
   "metadata": {},
   "outputs": [
    {
     "name": "stdout",
     "output_type": "stream",
     "text": [
      "Requirement already satisfied: psycopg2-binary in c:\\users\\hp\\projects\\postgresql_in_python\\venv\\lib\\site-packages (2.9.5)\n",
      "Note: you may need to restart the kernel to use updated packages.\n"
     ]
    },
    {
     "name": "stderr",
     "output_type": "stream",
     "text": [
      "WARNING: You are using pip version 21.2.3; however, version 23.0.1 is available.\n",
      "You should consider upgrading via the 'c:\\Users\\HP\\Projects\\postgresql_in_python\\venv\\Scripts\\python.exe -m pip install --upgrade pip' command.\n"
     ]
    }
   ],
   "source": [
    "pip install psycopg2-binary"
   ]
  },
  {
   "attachments": {},
   "cell_type": "markdown",
   "metadata": {},
   "source": [
    "## 2. Connecting to PostGres using Python and creating cursor object."
   ]
  },
  {
   "cell_type": "code",
   "execution_count": 3,
   "metadata": {},
   "outputs": [],
   "source": [
    "import psycopg2"
   ]
  },
  {
   "cell_type": "code",
   "execution_count": 4,
   "metadata": {},
   "outputs": [
    {
     "data": {
      "text/plain": [
       "{'host': 'localhost',\n",
       " 'port': '5432',\n",
       " 'dbname': 'postgres',\n",
       " 'user': 'postgres',\n",
       " 'password': '123'}"
      ]
     },
     "execution_count": 4,
     "metadata": {},
     "output_type": "execute_result"
    }
   ],
   "source": [
    "# Connection details\n",
    "connection_details = dict(\n",
    "    host = 'localhost',\n",
    "    port = '5432',\n",
    "    # database = 'postgres', this is deprecated alias\n",
    "    dbname = 'postgres',\n",
    "    user = 'postgres',\n",
    "    password = '123'\n",
    ")\n",
    "\n",
    "connection_details\n"
   ]
  },
  {
   "cell_type": "code",
   "execution_count": 5,
   "metadata": {},
   "outputs": [
    {
     "data": {
      "text/plain": [
       "psycopg2.extensions.connection"
      ]
     },
     "metadata": {},
     "output_type": "display_data"
    },
    {
     "name": "stdout",
     "output_type": "stream",
     "text": [
      "[(1, 2, 3)]\n",
      "closing connection\n"
     ]
    }
   ],
   "source": [
    "# creating a connection session\n",
    "conn=psycopg2.connect(**connection_details)\n",
    "display(type(conn))\n",
    "\n",
    "# creating a cursor object\n",
    "cursor = conn.cursor()\n",
    "\n",
    "# Placeholder for executing the statements using cursor object\n",
    "cursor.execute('select 1,2,3')\n",
    "print(cursor.fetchall())\n",
    "\n",
    "# Placeholder for commit of transaction(s)\n",
    "conn.commit()\n",
    "\n",
    "# closing the session\n",
    "print('closing connection')\n",
    "conn.close()\n"
   ]
  },
  {
   "attachments": {},
   "cell_type": "markdown",
   "metadata": {},
   "source": [
    "## Reading Data"
   ]
  },
  {
   "cell_type": "code",
   "execution_count": 6,
   "metadata": {},
   "outputs": [],
   "source": [
    "## opening a connection steps\n",
    "# 1 open a connection\n",
    "# 2 create a cursor object\n",
    "# 3 execute statement(s)\n",
    "# 4 commit\n",
    "# 5 close the connection"
   ]
  },
  {
   "cell_type": "code",
   "execution_count": 7,
   "metadata": {},
   "outputs": [
    {
     "name": "stdout",
     "output_type": "stream",
     "text": [
      "[(1, 'test string 1'), (2, 'test string 2'), (3, 'test string 3'), (4, 'test string 4')]\n"
     ]
    }
   ],
   "source": [
    "# 1. open a connection\n",
    "conn = psycopg2.connect(**connection_details)\n",
    "\n",
    "# 2. Create a cusor object\n",
    "cur = conn.cursor()\n",
    "\n",
    "# 3. Execute read statement(s)\n",
    "cur.execute('select * from python_postgres_tutorial.test_table_1;')\n",
    "print(cur.fetchall())\n",
    "\n",
    "# 4. Commit the transaction\n",
    "conn.commit()\n",
    "\n",
    "# 5. Close the connection\n",
    "conn.close()"
   ]
  },
  {
   "cell_type": "code",
   "execution_count": 11,
   "metadata": {},
   "outputs": [
    {
     "data": {
      "text/html": [
       "<div>\n",
       "<style scoped>\n",
       "    .dataframe tbody tr th:only-of-type {\n",
       "        vertical-align: middle;\n",
       "    }\n",
       "\n",
       "    .dataframe tbody tr th {\n",
       "        vertical-align: top;\n",
       "    }\n",
       "\n",
       "    .dataframe thead th {\n",
       "        text-align: right;\n",
       "    }\n",
       "</style>\n",
       "<table border=\"1\" class=\"dataframe\">\n",
       "  <thead>\n",
       "    <tr style=\"text-align: right;\">\n",
       "      <th></th>\n",
       "      <th>id</th>\n",
       "      <th>string_col</th>\n",
       "    </tr>\n",
       "  </thead>\n",
       "  <tbody>\n",
       "    <tr>\n",
       "      <th>0</th>\n",
       "      <td>1</td>\n",
       "      <td>test string 1</td>\n",
       "    </tr>\n",
       "    <tr>\n",
       "      <th>1</th>\n",
       "      <td>2</td>\n",
       "      <td>test string 2</td>\n",
       "    </tr>\n",
       "    <tr>\n",
       "      <th>2</th>\n",
       "      <td>3</td>\n",
       "      <td>test string 3</td>\n",
       "    </tr>\n",
       "    <tr>\n",
       "      <th>3</th>\n",
       "      <td>4</td>\n",
       "      <td>test string 4</td>\n",
       "    </tr>\n",
       "  </tbody>\n",
       "</table>\n",
       "</div>"
      ],
      "text/plain": [
       "   id     string_col\n",
       "0   1  test string 1\n",
       "1   2  test string 2\n",
       "2   3  test string 3\n",
       "3   4  test string 4"
      ]
     },
     "metadata": {},
     "output_type": "display_data"
    }
   ],
   "source": [
    "# using pandas\n",
    "import pandas as pd\n",
    "\n",
    "conn = psycopg2.connect(**connection_details)\n",
    "\n",
    "df = pd.read_sql('select * from python_postgres_tutorial.test_table_1;',con=conn)\n",
    "\n",
    "display(df)\n",
    "\n",
    "conn.close()"
   ]
  },
  {
   "attachments": {},
   "cell_type": "markdown",
   "metadata": {},
   "source": [
    "## 3. Writing the data"
   ]
  },
  {
   "cell_type": "code",
   "execution_count": null,
   "metadata": {},
   "outputs": [],
   "source": [
    "# 1. open a connection\n",
    "conn = psycopg2.connect(**connection_details)\n",
    "\n",
    "# 2. Create a cusor object\n",
    "cur = conn.cursor()\n",
    "\n",
    "# 3. Execute read statement(s)\n",
    "cur.execute(\"\"\"\n",
    "            -- inserting some value in the table\n",
    "            insert into python_postgres_tutorial.test_table_1 values\n",
    "            (5,'test string 3'),\n",
    "            (6, 'test string 4')\n",
    "            ;\n",
    "            \"\"\")\n",
    "print(cur.fetchall())\n",
    "\n",
    "# 4. Commit the transaction\n",
    "conn.commit()\n",
    "\n",
    "# 5. Close the connection\n",
    "conn.close()"
   ]
  },
  {
   "cell_type": "code",
   "execution_count": null,
   "metadata": {},
   "outputs": [],
   "source": [
    "## using context manager\n",
    "\n",
    "conn = psycopg2.connect(**connection_details)\n",
    "\n",
    "with conn:          # this does not closes the connection after exit, instead it commits the transaction if not exception is raised\n",
    "    with conn.cursor() as cursor:    # this closes the cursor\n",
    "        cur.execute('select * from python_postgres_tutorial.test_table_1;')\n",
    "        print(cur.fetchall())\n",
    "\n",
    "with conn:         \n",
    "    with conn.cursor() as cursor: \n",
    "        cur.execute('select * from python_postgres_tutorial.test_table_1;')\n",
    "        print(cur.fetchall())\n"
   ]
  },
  {
   "cell_type": "code",
   "execution_count": 44,
   "metadata": {},
   "outputs": [],
   "source": [
    "# 3. Execute statement\n",
    "cur.execute(\"\"\"\n",
    "            -- inserting some value in the table\n",
    "            insert into python_postgres_tutorial.test_table_1 values\n",
    "            (4,'test string 3'),\n",
    "            (4, 'test string 4')\n",
    "            ;\n",
    "            \"\"\")\n"
   ]
  },
  {
   "cell_type": "code",
   "execution_count": 57,
   "metadata": {},
   "outputs": [
    {
     "data": {
      "text/plain": [
       "[(1, 'test string 1'),\n",
       " (2, 'test string 2'),\n",
       " (3, 'test string 3'),\n",
       " (4, 'test string 4')]"
      ]
     },
     "execution_count": 57,
     "metadata": {},
     "output_type": "execute_result"
    }
   ],
   "source": []
  },
  {
   "cell_type": "code",
   "execution_count": 58,
   "metadata": {},
   "outputs": [],
   "source": [
    "# 4. Commit the transaction\n",
    "conn.commit()"
   ]
  },
  {
   "cell_type": "code",
   "execution_count": 59,
   "metadata": {},
   "outputs": [],
   "source": [
    "# 5. Close the connection session\n",
    "conn.close()"
   ]
  },
  {
   "cell_type": "code",
   "execution_count": 60,
   "metadata": {},
   "outputs": [
    {
     "data": {
      "text/plain": [
       "False"
      ]
     },
     "execution_count": 60,
     "metadata": {},
     "output_type": "execute_result"
    }
   ],
   "source": [
    "conn.isexecuting()"
   ]
  },
  {
   "attachments": {},
   "cell_type": "markdown",
   "metadata": {},
   "source": [
    "##### References\n",
    "1. [Translaction of Data Types Between Python and PostGres via Psycopg](https://www.psycopg.org/docs/usage.html#adaptation-of-python-values-to-sql-types)\n",
    "2. [Type of Exceptions](https://www.psycopg.org/docs/module.html#exceptions)"
   ]
  }
 ],
 "metadata": {
  "kernelspec": {
   "display_name": "venv",
   "language": "python",
   "name": "python3"
  },
  "language_info": {
   "codemirror_mode": {
    "name": "ipython",
    "version": 3
   },
   "file_extension": ".py",
   "mimetype": "text/x-python",
   "name": "python",
   "nbconvert_exporter": "python",
   "pygments_lexer": "ipython3",
   "version": "3.10.0"
  },
  "orig_nbformat": 4,
  "vscode": {
   "interpreter": {
    "hash": "df7b0e555db1f17a73f75d07f5b4b00f93adfce8885088d7af1126d3aee45f93"
   }
  }
 },
 "nbformat": 4,
 "nbformat_minor": 2
}
