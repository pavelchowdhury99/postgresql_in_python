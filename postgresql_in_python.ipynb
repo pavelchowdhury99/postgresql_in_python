{
 "cells": [
  {
   "attachments": {},
   "cell_type": "markdown",
   "metadata": {},
   "source": [
    "# PostGreSQL Using Python"
   ]
  },
  {
   "attachments": {},
   "cell_type": "markdown",
   "metadata": {},
   "source": [
    "1. [Installing PostGres In Local](https://www.postgresql.org/download/) \n",
    "2. Connecting Dbeaver\n",
    "3. Installing Python Libraries for Connecting to PostGres\n",
    "4. Connecting With Python\n",
    "5. Connection and Cursor Object\n",
    "6. Reading Data\n",
    "7. Writing Data\n",
    "8. ORM"
   ]
  },
  {
   "attachments": {},
   "cell_type": "markdown",
   "metadata": {},
   "source": [
    "## 1. Installing and Connecting to PostGreSQL\n",
    "1. psycopg2-binary\n",
    "2. SQLAlchemy"
   ]
  },
  {
   "attachments": {},
   "cell_type": "markdown",
   "metadata": {},
   "source": [
    "### 1. psycopg2-binary"
   ]
  },
  {
   "cell_type": "code",
   "execution_count": 1,
   "metadata": {},
   "outputs": [
    {
     "name": "stdout",
     "output_type": "stream",
     "text": [
      "Requirement already satisfied: psycopg2-binary in c:\\users\\hp\\projects\\postgresql_in_python\\venv\\lib\\site-packages (2.9.5)\n",
      "Note: you may need to restart the kernel to use updated packages.\n"
     ]
    },
    {
     "name": "stderr",
     "output_type": "stream",
     "text": [
      "WARNING: You are using pip version 21.2.3; however, version 23.0.1 is available.\n",
      "You should consider upgrading via the 'c:\\Users\\HP\\Projects\\postgresql_in_python\\venv\\Scripts\\python.exe -m pip install --upgrade pip' command.\n"
     ]
    }
   ],
   "source": [
    "pip install psycopg2-binary"
   ]
  },
  {
   "cell_type": "code",
   "execution_count": 5,
   "metadata": {},
   "outputs": [],
   "source": [
    "import psycopg2"
   ]
  },
  {
   "cell_type": "code",
   "execution_count": 10,
   "metadata": {},
   "outputs": [
    {
     "data": {
      "text/plain": [
       "{'host': 'localhost',\n",
       " 'port': '5432',\n",
       " 'database': 'postgres',\n",
       " 'user': 'postgres',\n",
       " 'password': 123}"
      ]
     },
     "execution_count": 10,
     "metadata": {},
     "output_type": "execute_result"
    }
   ],
   "source": [
    "# Connection details\n",
    "connection_details = dict(\n",
    "    host = 'localhost',\n",
    "    port = '5432',\n",
    "    database = 'postgres',\n",
    "    user = 'postgres',\n",
    "    password = 123\n",
    ")\n",
    "\n",
    "connection_details\n"
   ]
  },
  {
   "cell_type": "code",
   "execution_count": 4,
   "metadata": {},
   "outputs": [],
   "source": [
    "## opening a connection steps\n",
    "# 1 open a connection\n",
    "# 2 create a cursor object\n",
    "# 3 execute statement(s)\n",
    "# 4 commit\n",
    "# 5 close the connection"
   ]
  },
  {
   "cell_type": "code",
   "execution_count": 41,
   "metadata": {},
   "outputs": [],
   "source": [
    "# 1 open a connection\n",
    "conn=psycopg2.connect(**connection_details)"
   ]
  },
  {
   "cell_type": "code",
   "execution_count": 42,
   "metadata": {},
   "outputs": [],
   "source": [
    "# 2. Create a cusor object\n",
    "cur = conn.cursor()"
   ]
  },
  {
   "cell_type": "code",
   "execution_count": 43,
   "metadata": {},
   "outputs": [
    {
     "data": {
      "text/plain": [
       "[(1, 'test string 1'), (2, 'test string 2')]"
      ]
     },
     "execution_count": 43,
     "metadata": {},
     "output_type": "execute_result"
    }
   ],
   "source": [
    "# 3. Execute statement\n",
    "cur.execute('select * from python_postgres_tutorial.test_table_1;')\n",
    "cur.fetchall()"
   ]
  },
  {
   "cell_type": "code",
   "execution_count": 44,
   "metadata": {},
   "outputs": [],
   "source": [
    "# 3. Execute statement\n",
    "cur.execute(\"\"\"\n",
    "            -- inserting some value in the table\n",
    "            insert into python_postgres_tutorial.test_table_1 values\n",
    "            (3,'test string 3'),\n",
    "            (4, 'test string 4')\n",
    "            ;\n",
    "            \"\"\")\n"
   ]
  },
  {
   "cell_type": "code",
   "execution_count": 45,
   "metadata": {},
   "outputs": [
    {
     "data": {
      "text/plain": [
       "[(1, 'test string 1'),\n",
       " (2, 'test string 2'),\n",
       " (3, 'test string 3'),\n",
       " (4, 'test string 4')]"
      ]
     },
     "execution_count": 45,
     "metadata": {},
     "output_type": "execute_result"
    }
   ],
   "source": [
    "# 3. Execute statement\n",
    "cur.execute('select * from python_postgres_tutorial.test_table_1;')\n",
    "cur.fetchall()"
   ]
  },
  {
   "cell_type": "code",
   "execution_count": 46,
   "metadata": {},
   "outputs": [],
   "source": [
    "# 4. Commit the transaction\n",
    "conn.commit()"
   ]
  },
  {
   "cell_type": "code",
   "execution_count": 47,
   "metadata": {},
   "outputs": [],
   "source": [
    "# 5. Close the connection session\n",
    "conn.close()"
   ]
  },
  {
   "cell_type": "code",
   "execution_count": 48,
   "metadata": {},
   "outputs": [
    {
     "data": {
      "text/plain": [
       "False"
      ]
     },
     "execution_count": 48,
     "metadata": {},
     "output_type": "execute_result"
    }
   ],
   "source": [
    "conn.isexecuting()"
   ]
  },
  {
   "attachments": {},
   "cell_type": "markdown",
   "metadata": {},
   "source": [
    "##### References\n",
    "1. [Translaction of Data Types Between Python and PostGres via Psycopg](https://www.psycopg.org/docs/usage.html#adaptation-of-python-values-to-sql-types)"
   ]
  },
  {
   "cell_type": "code",
   "execution_count": null,
   "metadata": {},
   "outputs": [],
   "source": []
  },
  {
   "attachments": {},
   "cell_type": "markdown",
   "metadata": {},
   "source": [
    "#### 2. SQLAlchemy"
   ]
  },
  {
   "attachments": {},
   "cell_type": "markdown",
   "metadata": {},
   "source": [
    "## 2. Fetching Data From PostGreSQL\n",
    "1. using execute\n",
    "2. using pandas"
   ]
  },
  {
   "attachments": {},
   "cell_type": "markdown",
   "metadata": {},
   "source": [
    "## 3. Writing Data to PostGress\n",
    "1. using execute\n",
    "2. Using pandas"
   ]
  },
  {
   "cell_type": "markdown",
   "metadata": {},
   "source": []
  }
 ],
 "metadata": {
  "kernelspec": {
   "display_name": "venv",
   "language": "python",
   "name": "python3"
  },
  "language_info": {
   "codemirror_mode": {
    "name": "ipython",
    "version": 3
   },
   "file_extension": ".py",
   "mimetype": "text/x-python",
   "name": "python",
   "nbconvert_exporter": "python",
   "pygments_lexer": "ipython3",
   "version": "3.10.0"
  },
  "orig_nbformat": 4,
  "vscode": {
   "interpreter": {
    "hash": "df7b0e555db1f17a73f75d07f5b4b00f93adfce8885088d7af1126d3aee45f93"
   }
  }
 },
 "nbformat": 4,
 "nbformat_minor": 2
}
